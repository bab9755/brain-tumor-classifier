{
 "cells": [
  {
   "cell_type": "code",
   "execution_count": null,
   "id": "ea985982-8364-4837-83bb-021bdd9162dd",
   "metadata": {},
   "outputs": [],
   "source": [
    "import numpy as np\n",
    "import pandas as pd\n",
    "import tensorflow as tf\n",
    "import os\n",
    "import PIL\n",
    "import PIL.Image"
   ]
  },
  {
   "cell_type": "code",
   "execution_count": null,
   "id": "e9b3f22d-f378-4185-bd27-972f124c717a",
   "metadata": {},
   "outputs": [],
   "source": [
    "#load the training and testing datasets\n",
    "training_dir = './cleaned/Training'\n",
    "testing_dir = './cleaned/Testing'\n",
    "training_set = tf.keras.utils.image_dataset_from_directory(training_dir)\n",
    "testing_set = tf.keras.utils.image_dataset_from_directory(testing_dir)\n",
    "\n",
    "class_names = training_set.class_names\n",
    "print(class_names)\n",
    "\n",
    "\n",
    "    "
   ]
  },
  {
   "cell_type": "code",
   "execution_count": null,
   "id": "62cb1ebf-e171-4f1b-80d8-5da4b84bd182",
   "metadata": {},
   "outputs": [],
   "source": [
    "#now we are doing to do some data visualization\n",
    "\n",
    "import matplotlib.pyplot as plt\n",
    "\n",
    "plt.figure(figsize=(10, 10))\n",
    "for images, labels in training_set.take(1):\n",
    "    for i in range(9):\n",
    "        ax = plt.subplot(3, 3, i + 1)\n",
    "        plt.imshow(images[i].numpy().astype('uint8'))\n",
    "        plt.title(class_names[labels[i]])\n",
    "        plt.axis('off')\n",
    "\n",
    "\n",
    "\n",
    "        \n",
    "    \n",
    "    "
   ]
  },
  {
   "cell_type": "code",
   "execution_count": null,
   "id": "b392f3fc-22c3-424e-a27d-afb880595001",
   "metadata": {},
   "outputs": [],
   "source": [
    "#now we are going to standardize the data in order to make it more compatible for a neural network\n",
    "normalization_layer = tf.keras.layers.Rescaling(1./255)\n",
    "normalized_training_set = training_set.map(lambda x, y: (normalization_layer(x), y))\n",
    "normalized_testing_set = testing_set.map(lambda x, y: (normalization_layer(x), y))"
   ]
  },
  {
   "cell_type": "markdown",
   "id": "a22bbd24",
   "metadata": {},
   "source": []
  },
  {
   "cell_type": "code",
   "execution_count": null,
   "id": "8ca9dc95-f553-45b1-8e64-c99a470b7a57",
   "metadata": {},
   "outputs": [],
   "source": [
    "training_images, training_labels = zip(*normalized_training_set)\n",
    "testing_images, testing_labels = zip(*normalized_testing_set)\n",
    "plt.figure(figsize=(10, 10))\n",
    "for i in range(2):\n",
    "    plt.subplot(5, 5, i + 1)\n",
    "    plt.grid = False\n",
    "    plt.imshow(training_images[i][0])\n",
    "    plt.xlabel(class_names[training_labels[i][0]])\n",
    "plt.show()\n",
    "training_images = np.concatenate(training_images)\n",
    "training_labels = np.concatenate(training_labels)\n",
    "testing_images = np.concatenate(testing_images)\n",
    "testing_labels = np.concatenate(testing_labels)\n"
   ]
  },
  {
   "cell_type": "code",
   "execution_count": null,
   "id": "f34f6b14-792d-47fb-894e-8ef9615836ca",
   "metadata": {},
   "outputs": [],
   "source": [
    "print(training_images.shape)\n",
    "print(training_labels.shape)\n",
    "print(testing_images.shape)\n",
    "print(testing_labels.shape)"
   ]
  },
  {
   "cell_type": "code",
   "execution_count": null,
   "id": "847ac989-235b-4ee9-b66e-5e552de40a5f",
   "metadata": {},
   "outputs": [],
   "source": [
    "#adding layers to our sequential model\n",
    "from tensorflow.keras import models, layers\n",
    "model = models.Sequential()\n",
    "model.add(layers.Conv2D(32, (3, 3), activation='relu', input_shape=(256, 256, 3)))\n",
    "model.add(layers.MaxPooling2D((2, 2)))\n",
    "model.add(layers.Conv2D(64, (3, 3), activation='relu'))\n",
    "model.add(layers.MaxPooling2D((2, 2)))\n",
    "model.add(layers.Conv2D(64, (3, 3), activation='relu'))\n",
    "model.summary()"
   ]
  },
  {
   "cell_type": "code",
   "execution_count": null,
   "id": "b472b5e4-f9a3-42db-a6e5-a8db83f4c8b5",
   "metadata": {},
   "outputs": [],
   "source": [
    "model.add(layers.Flatten())\n",
    "model.add(layers.Dense(64, activation='relu'))\n",
    "model.add(layers.Dense(len(class_names)))\n",
    "model.summary()"
   ]
  },
  {
   "cell_type": "code",
   "execution_count": null,
   "id": "c43df728-037f-45d6-be3f-a939ef6270d6",
   "metadata": {},
   "outputs": [],
   "source": [
    "model.compile(optimizer='adam',\n",
    "              loss=tf.keras.losses.SparseCategoricalCrossentropy(from_logits=True),\n",
    "              metrics=['accuracy'])\n",
    "\n",
    "history = model.fit(training_images, training_labels, epochs=10, \n",
    "                    validation_data=(testing_images, testing_labels))"
   ]
  },
  {
   "cell_type": "code",
   "execution_count": null,
   "id": "05ec1caf-e2c6-4a00-bea4-667a36a1ee71",
   "metadata": {},
   "outputs": [],
   "source": []
  }
 ],
 "metadata": {
  "kernelspec": {
   "display_name": "Python 3 (ipykernel)",
   "language": "python",
   "name": "python3"
  },
  "language_info": {
   "codemirror_mode": {
    "name": "ipython",
    "version": 3
   },
   "file_extension": ".py",
   "mimetype": "text/x-python",
   "name": "python",
   "nbconvert_exporter": "python",
   "pygments_lexer": "ipython3",
   "version": "3.9.6"
  }
 },
 "nbformat": 4,
 "nbformat_minor": 5
}
