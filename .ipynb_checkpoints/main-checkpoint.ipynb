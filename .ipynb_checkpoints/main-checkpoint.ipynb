{
 "cells": [
  {
   "cell_type": "code",
   "execution_count": 3,
   "id": "ea985982-8364-4837-83bb-021bdd9162dd",
   "metadata": {},
   "outputs": [],
   "source": [
    "import numpy as np\n",
    "import pandas as pd\n",
    "import tensorflow as tf\n",
    "import os\n",
    "import PIL\n",
    "import PIL.Image"
   ]
  },
  {
   "cell_type": "code",
   "execution_count": 11,
   "id": "e9b3f22d-f378-4185-bd27-972f124c717a",
   "metadata": {},
   "outputs": [
    {
     "name": "stdout",
     "output_type": "stream",
     "text": [
      "This is the filename: Training\n",
      "This is the filename: Testing\n",
      "The total number of files from ./cleaned is 0\n"
     ]
    }
   ],
   "source": [
    "count = 0\n",
    "cleaned_directory = './cleaned'\n",
    "for filename in os.listdir(cleaned_directory):\n",
    "    if filename == 'Training':\n",
    "        print(f\"This is the filename: {filename}\")\n",
    "        filepath = os.path.join(cleaned_directory, filename)\n",
    "        for file in os.listdir(filepath):\n",
    "            if os.path.isfile(file):\n",
    "                print(f\"adding {file} to the count\")\n",
    "                count += 1\n",
    "            else:\n",
    "                print(f\"{file} is not a file\")\n",
    "    elif filename == 'Testing':\n",
    "        print(f\"This is the filename: {filename}\")\n",
    "        filepath = os.path.join(cleaned_directory, filename)\n",
    "        for file in os.listdir(filepath):\n",
    "            if os.path.isfile(file):\n",
    "                print(f\"adding {file} to the count\")\n",
    "                count += 1\n",
    "            else:\n",
    "                print(f\"{file} is not a file\")\n",
    "                \n",
    "\n",
    "\n",
    "print(f\"The total number of files from {cleaned_directory} is {count}\")\n",
    "    "
   ]
  },
  {
   "cell_type": "code",
   "execution_count": null,
   "id": "62cb1ebf-e171-4f1b-80d8-5da4b84bd182",
   "metadata": {},
   "outputs": [],
   "source": []
  }
 ],
 "metadata": {
  "kernelspec": {
   "display_name": "Python 3 (ipykernel)",
   "language": "python",
   "name": "python3"
  },
  "language_info": {
   "codemirror_mode": {
    "name": "ipython",
    "version": 3
   },
   "file_extension": ".py",
   "mimetype": "text/x-python",
   "name": "python",
   "nbconvert_exporter": "python",
   "pygments_lexer": "ipython3",
   "version": "3.9.6"
  }
 },
 "nbformat": 4,
 "nbformat_minor": 5
}
